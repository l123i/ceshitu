{
 "cells": [
  {
   "cell_type": "code",
   "execution_count": 1,
   "id": "c7d98e2c",
   "metadata": {},
   "outputs": [],
   "source": [
    "import pandas as pd"
   ]
  },
  {
   "cell_type": "code",
   "execution_count": 2,
   "id": "ae5e09a8",
   "metadata": {},
   "outputs": [],
   "source": [
    "c=pd.read_excel(\"./视频号测试.xlsx\")"
   ]
  },
  {
   "cell_type": "code",
   "execution_count": 4,
   "id": "361243e7",
   "metadata": {},
   "outputs": [
    {
     "data": {
      "text/html": [
       "<div>\n",
       "<style scoped>\n",
       "    .dataframe tbody tr th:only-of-type {\n",
       "        vertical-align: middle;\n",
       "    }\n",
       "\n",
       "    .dataframe tbody tr th {\n",
       "        vertical-align: top;\n",
       "    }\n",
       "\n",
       "    .dataframe thead th {\n",
       "        text-align: right;\n",
       "    }\n",
       "</style>\n",
       "<table border=\"1\" class=\"dataframe\">\n",
       "  <thead>\n",
       "    <tr style=\"text-align: right;\">\n",
       "      <th></th>\n",
       "      <th>产品</th>\n",
       "      <th>销量</th>\n",
       "      <th>售价</th>\n",
       "      <th>店铺</th>\n",
       "      <th>店铺分</th>\n",
       "      <th>类目</th>\n",
       "      <th>时间</th>\n",
       "    </tr>\n",
       "  </thead>\n",
       "  <tbody>\n",
       "    <tr>\n",
       "      <th>0</th>\n",
       "      <td>鼎橙 猪肠衣 灌香肠腊肠脆皮肠风干肠宝宝放心吃50g</td>\n",
       "      <td>108000.0</td>\n",
       "      <td>9.8</td>\n",
       "      <td>鼎橙好东西</td>\n",
       "      <td>4.89</td>\n",
       "      <td>全部</td>\n",
       "      <td>2025-01-06</td>\n",
       "    </tr>\n",
       "  </tbody>\n",
       "</table>\n",
       "</div>"
      ],
      "text/plain": [
       "                           产品        销量   售价     店铺   店铺分  类目         时间\n",
       "0  鼎橙 猪肠衣 灌香肠腊肠脆皮肠风干肠宝宝放心吃50g  108000.0  9.8  鼎橙好东西  4.89  全部 2025-01-06"
      ]
     },
     "execution_count": 4,
     "metadata": {},
     "output_type": "execute_result"
    }
   ],
   "source": [
    "c.head(1)"
   ]
  },
  {
   "cell_type": "code",
   "execution_count": 5,
   "id": "de404f1e",
   "metadata": {},
   "outputs": [
    {
     "data": {
      "text/plain": [
       "Index(['产品', '销量', '售价', '店铺', '店铺分', '类目', '时间'], dtype='object')"
      ]
     },
     "execution_count": 5,
     "metadata": {},
     "output_type": "execute_result"
    }
   ],
   "source": [
    "c.columns"
   ]
  },
  {
   "cell_type": "code",
   "execution_count": 6,
   "id": "5260dd59",
   "metadata": {},
   "outputs": [
    {
     "data": {
      "text/plain": [
       "RangeIndex(start=0, stop=3529, step=1)"
      ]
     },
     "execution_count": 6,
     "metadata": {},
     "output_type": "execute_result"
    }
   ],
   "source": [
    "c.index"
   ]
  },
  {
   "cell_type": "code",
   "execution_count": 21,
   "id": "03d45b05",
   "metadata": {},
   "outputs": [
    {
     "data": {
      "text/plain": [
       "<bound method DataFrame.info of                                             产品        销量      售价          店铺  \\\n",
       "0                   鼎橙 猪肠衣 灌香肠腊肠脆皮肠风干肠宝宝放心吃50g  108000.0    9.80       鼎橙好东西   \n",
       "1             【时光】羽绒服蓬松剂防缩水干瘪恢复柔软膨松护理剂防结块起坨洗涤剂  101000.0    5.90       轻茉供应链   \n",
       "2     妈妈款堆堆帽韩版冬季新款女士中老年针织帽子松鼠绒中老年毛线帽加厚保暖弹力大遮白发   19000.0   49.90    财洲电子商务商行   \n",
       "3                    【宠粉福利】秋冬新款毛衫打底贴身柔软不扎长袖毛衣女   19000.0   19.90     专注羊毛衫制品   \n",
       "4               剑南春 浓香白酒 52度500ml*1剑南JNVIP绵钻新款   19000.0   99.00      购酒网卖场店   \n",
       "...                                        ...       ...     ...         ...   \n",
       "3524             秋冬保暖手套女可触屏手套加绒加厚防风寒学生柔软防寒手套冬天       1.0    9.90   咖德诺丘彼特家居馆   \n",
       "3525              《冯唐讲资治通鉴年卡》+赠讲资31天卡，可以畅听396天       1.0  299.00        冯唐讲书   \n",
       "3526       [年货红色礼盒装]忠厚纯牛奶200ml*12盒每箱新鲜儿童学生成人牛奶       1.0   18.88   忠厚乳业线上工厂店   \n",
       "3527      小熊驾到买一送一面包糠空气炸锅专用裹粉 家用油炸香酥脆皮调料250g/袋       1.0    9.90  小熊驾到股份有限公司   \n",
       "3528         【带夜灯】多功能插座USB Type-C一转多 插座转换器【广元】       1.0    9.90      智能科技生活   \n",
       "\n",
       "       店铺分  类目         时间  \n",
       "0     4.89  全部 2025-01-06  \n",
       "1     4.94  全部 2025-01-06  \n",
       "2     4.72  全部 2025-01-06  \n",
       "3     4.69  全部 2025-01-06  \n",
       "4     4.73  全部 2025-01-06  \n",
       "...    ...  ..        ...  \n",
       "3524  4.82  全部 2025-01-06  \n",
       "3525  4.69  全部 2025-01-06  \n",
       "3526  4.77  全部 2025-01-06  \n",
       "3527  4.83  全部 2025-01-06  \n",
       "3528  4.79  全部 2025-01-06  \n",
       "\n",
       "[3529 rows x 7 columns]>"
      ]
     },
     "execution_count": 21,
     "metadata": {},
     "output_type": "execute_result"
    }
   ],
   "source": [
    "c.info"
   ]
  },
  {
   "cell_type": "code",
   "execution_count": 45,
   "id": "7c2c4788",
   "metadata": {},
   "outputs": [],
   "source": [
    "c.loc[:, ['哈哈']] = 1111"
   ]
  },
  {
   "cell_type": "code",
   "execution_count": 51,
   "id": "c4a05736",
   "metadata": {},
   "outputs": [],
   "source": [
    "v=c.drop('哈哈',axis=1)"
   ]
  },
  {
   "cell_type": "code",
   "execution_count": 53,
   "id": "f2fe0e36",
   "metadata": {},
   "outputs": [
    {
     "data": {
      "text/plain": [
       "'【时光】羽绒服蓬松剂防缩水干瘪恢复柔软膨松护理剂防结块起坨洗涤剂'"
      ]
     },
     "execution_count": 53,
     "metadata": {},
     "output_type": "execute_result"
    }
   ],
   "source": [
    "v.iloc[1,0]"
   ]
  },
  {
   "cell_type": "code",
   "execution_count": 5,
   "id": "8baf4c9d",
   "metadata": {},
   "outputs": [
    {
     "data": {
      "text/plain": [
       "'E:\\\\jupyternotebook\\\\测试111\\\\111.html'"
      ]
     },
     "execution_count": 5,
     "metadata": {},
     "output_type": "execute_result"
    }
   ],
   "source": [
    "from pyecharts.charts import Scatter, Line\n",
    "from pyecharts import options as opts\n",
    "\n",
    "# 假设这里有一组简单的示例数据，实际中你可以替换为真实的线性回归相关数据\n",
    "x_data = [1, 2, 3, 4, 5]\n",
    "y_data = [2, 4, 6, 9, 16]\n",
    "\n",
    "# 假设拟合出的线性回归直线方程为 y = 2 * x（这里只是示例，实际中根据真实拟合情况来）\n",
    "k = 2\n",
    "b = 0\n",
    "\n",
    "# 创建散点图对象，用于展示原始数据点\n",
    "scatter = Scatter()\n",
    "scatter.add_xaxis(x_data)\n",
    "scatter.add_yaxis(\"数据点\", y_data)\n",
    "\n",
    "# 创建折线图对象，用于展示线性回归直线\n",
    "line = Line()\n",
    "line.add_xaxis(x_data)\n",
    "# 根据线性回归直线方程计算对应的y值，生成直线上的点\n",
    "line_y_data = [k * x + b for x in x_data]\n",
    "line.add_yaxis(\"线性回归直线\", line_y_data)\n",
    "\n",
    "# 将散点图和折线图组合到一起\n",
    "combined_chart = scatter.overlap(line)\n",
    "\n",
    "# 设置全局配置项，比如标题等\n",
    "combined_chart.set_global_opts(\n",
    "    title_opts=opts.TitleOpts(title=\"线性回归可视化\"),\n",
    "    xaxis_opts=opts.AxisOpts(name=\"自变量\"),\n",
    "    yaxis_opts=opts.AxisOpts(name=\"因变量\")\n",
    ")\n",
    "\n",
    "combined_chart.render('111.html')"
   ]
  },
  {
   "cell_type": "code",
   "execution_count": 7,
   "id": "1f330c50",
   "metadata": {},
   "outputs": [
    {
     "name": "stdout",
     "output_type": "stream",
     "text": [
      "   score grade\n",
      "0     55     F\n",
      "1     62     D\n",
      "2     78     C\n",
      "3     85     B\n",
      "4     92     A\n",
      "5     43     F\n",
      "6     70     D\n",
      "7     88     B\n"
     ]
    }
   ],
   "source": [
    "import pandas as pd\n",
    "\n",
    "# 创建一个示例 DataFrame\n",
    "data = {'score': [55, 62, 78, 85, 92, 43, 70, 88]}\n",
    "df = pd.DataFrame(data)\n",
    "\n",
    "# 使用 cut 函数对 score 列进行分箱操作\n",
    "bins = [0, 60, 70, 80, 90, 100]\n",
    "labels = ['F', 'D', 'C', 'B', 'A']\n",
    "score_bins = pd.cut(df['score'], bins=bins, labels=labels)\n",
    "\n",
    "# 将分箱结果添加到 DataFrame 中作为新列\n",
    "df['grade'] = score_bins\n",
    "\n",
    "print(df)"
   ]
  },
  {
   "cell_type": "code",
   "execution_count": 2,
   "id": "cf98278b",
   "metadata": {},
   "outputs": [
    {
     "name": "stdout",
     "output_type": "stream",
     "text": [
      "abN/Ad\n",
      "0    a_x\n",
      "1    b_y\n",
      "2    c_z\n",
      "dtype: object\n"
     ]
    }
   ],
   "source": [
    "import pandas as pd\n",
    "\n",
    "# 创建示例 Series\n",
    "s1 = pd.Series(['a', 'b', 'c'])\n",
    "s2 = pd.Series(['d', 'e', 'f'])\n",
    "\n",
    "\n",
    "# 情况三：使用 na_rep 参数处理缺失值\n",
    "s3 = pd.Series(['a', 'b', None, 'd'])\n",
    "combined_na = s3.str.cat(sep='', na_rep='N/A')\n",
    "print(combined_na)\n",
    "\n",
    "\n",
    "# 情况四：将 Series 与列表元素逐个拼接\n",
    "combined_list = s1.str.cat(['x', 'y', 'z'], sep='_')\n",
    "print(combined_list)"
   ]
  },
  {
   "cell_type": "code",
   "execution_count": null,
   "id": "51f647e2",
   "metadata": {},
   "outputs": [],
   "source": []
  }
 ],
 "metadata": {
  "kernelspec": {
   "display_name": "Python 3 (ipykernel)",
   "language": "python",
   "name": "python3"
  },
  "language_info": {
   "codemirror_mode": {
    "name": "ipython",
    "version": 3
   },
   "file_extension": ".py",
   "mimetype": "text/x-python",
   "name": "python",
   "nbconvert_exporter": "python",
   "pygments_lexer": "ipython3",
   "version": "3.9.13"
  }
 },
 "nbformat": 4,
 "nbformat_minor": 5
}
